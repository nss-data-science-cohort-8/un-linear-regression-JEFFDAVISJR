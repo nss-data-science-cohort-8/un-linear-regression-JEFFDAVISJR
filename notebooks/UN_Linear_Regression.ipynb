{
 "cells": [
  {
   "cell_type": "markdown",
   "id": "97af10db-f694-45bb-9d26-10f8fd258b34",
   "metadata": {},
   "source": [
    "# Linear Regression Practice\n",
    "\n",
    "For this exercise, you've been provided with a csv file, gdp_le.csv, which contains the gdp per capita and life expectancy values that you were working with on the UN data exercise.\n",
    "\n",
    "1. Start by fitting a linear regression model with target being life expectancy and predictor variable year.  \n",
    "    a. What coefficients do you get? Interpret the meaning of these coefficents.  \n",
    "    b. Using just the year makes the intercept term difficult to interpret. Create a new model, but this time use years since 1990 as your predictor variable. Hint: You can the [patsy identity function](https://patsy.readthedocs.io/en/latest/builtins-reference.html#patsy.builtins.I) to modify your predictors in your model formula. Inspect the new coefficients and interpret the meaning of them. Are they statistically significant?  \n",
    "    c. Compare the actual mean life expectancy per year to the model's estimate. How well does it do?  \n",
    "    d. Plot the actual values against your model's estimates for the mean life expectancy.  \n",
    "    e. Inspect the R-squared value for the model. does it make sense, given the plot?  \n",
    "\n",
    "2. Filter the full dataset down to just the year 2021. Fit a linear regression model with target being life expectancy and predictor variable gdp per capita.  \n",
    "    a. What coefficients do you get? Interpret the meaning of those coefficients.  \n",
    "    b. Refit your model, but this time use thousands of dollars of gdp per capita as your predictor. How does this change your coefficients?  \n",
    "    c. Are the coefficients statistically significant?  \n",
    "    d. What does your model estimate for the mean life expectancy for a country whose gdp per capita is $50,000? What about one whose gdp per capita is $100,000?\n",
    "    e. Plot the actual values compared to your model's estimates for mean life expectancy. How would you assess the model's fit?\n",
    "\n",
    "3. Now, fit a model for life expectancy based on the log of gdp per capita.  \n",
    "    a. Inspect the coefficients for this model. Are they statistically significant?\n",
    "    b. Interpret these coefficients. What does the model estimate for the average life expectancy for countries with a gdp per capita of $50,000? What about for those with a gdp per capita of $100,000?\n",
    "    c. Plot the actual values compared to your models' estimates for the mean life expectancy. How does this compare to the non-logged model?\n",
    "\n",
    "4. Finally, return to the full dataset. \n",
    "    a. First, fit a linear regression model for life expectancy based on the log of gdp per capita.\n",
    "    b. Then, add the year variable to your model. How can you interpret the coefficient associated with year? What limitations or weaknesses might this model have?\n"
   ]
  },
  {
   "cell_type": "code",
   "execution_count": 1,
   "id": "bf02720a-958b-42c2-bd19-b23a3348fc96",
   "metadata": {},
   "outputs": [],
   "source": [
    "import pandas as pd\n",
    "import numpy as np\n",
    "import matplotlib.pyplot as plt"
   ]
  },
  {
   "cell_type": "code",
   "execution_count": 4,
   "id": "bb055275-e54e-482d-914d-de68c85dff99",
   "metadata": {},
   "outputs": [
    {
     "data": {
      "text/html": [
       "<div>\n",
       "<style scoped>\n",
       "    .dataframe tbody tr th:only-of-type {\n",
       "        vertical-align: middle;\n",
       "    }\n",
       "\n",
       "    .dataframe tbody tr th {\n",
       "        vertical-align: top;\n",
       "    }\n",
       "\n",
       "    .dataframe thead th {\n",
       "        text-align: right;\n",
       "    }\n",
       "</style>\n",
       "<table border=\"1\" class=\"dataframe\">\n",
       "  <thead>\n",
       "    <tr style=\"text-align: right;\">\n",
       "      <th></th>\n",
       "      <th>Country</th>\n",
       "      <th>Year</th>\n",
       "      <th>GDP_Per_Capita</th>\n",
       "      <th>Continent</th>\n",
       "      <th>Life_Expectancy</th>\n",
       "    </tr>\n",
       "  </thead>\n",
       "  <tbody>\n",
       "    <tr>\n",
       "      <th>0</th>\n",
       "      <td>Afghanistan</td>\n",
       "      <td>2021</td>\n",
       "      <td>1517.016266</td>\n",
       "      <td>Asia</td>\n",
       "      <td>61.982</td>\n",
       "    </tr>\n",
       "    <tr>\n",
       "      <th>1</th>\n",
       "      <td>Afghanistan</td>\n",
       "      <td>2020</td>\n",
       "      <td>1968.341002</td>\n",
       "      <td>Asia</td>\n",
       "      <td>62.575</td>\n",
       "    </tr>\n",
       "    <tr>\n",
       "      <th>2</th>\n",
       "      <td>Afghanistan</td>\n",
       "      <td>2019</td>\n",
       "      <td>2079.921861</td>\n",
       "      <td>Asia</td>\n",
       "      <td>63.565</td>\n",
       "    </tr>\n",
       "    <tr>\n",
       "      <th>3</th>\n",
       "      <td>Afghanistan</td>\n",
       "      <td>2018</td>\n",
       "      <td>2060.698973</td>\n",
       "      <td>Asia</td>\n",
       "      <td>63.081</td>\n",
       "    </tr>\n",
       "    <tr>\n",
       "      <th>4</th>\n",
       "      <td>Afghanistan</td>\n",
       "      <td>2017</td>\n",
       "      <td>2096.093111</td>\n",
       "      <td>Asia</td>\n",
       "      <td>63.016</td>\n",
       "    </tr>\n",
       "  </tbody>\n",
       "</table>\n",
       "</div>"
      ],
      "text/plain": [
       "       Country  Year  GDP_Per_Capita Continent  Life_Expectancy\n",
       "0  Afghanistan  2021     1517.016266      Asia           61.982\n",
       "1  Afghanistan  2020     1968.341002      Asia           62.575\n",
       "2  Afghanistan  2019     2079.921861      Asia           63.565\n",
       "3  Afghanistan  2018     2060.698973      Asia           63.081\n",
       "4  Afghanistan  2017     2096.093111      Asia           63.016"
      ]
     },
     "execution_count": 4,
     "metadata": {},
     "output_type": "execute_result"
    }
   ],
   "source": [
    "gdp_le = pd.read_csv('../data/gdp_le.csv')\n",
    "gdp_le.head()"
   ]
  },
  {
   "cell_type": "code",
   "execution_count": 6,
   "id": "abda1c94-fc31-452e-80ff-c91981b97f2c",
   "metadata": {},
   "outputs": [
    {
     "data": {
      "image/png": "[encoded data removed]",
      "text/plain": [
       "<Figure size 640x480 with 1 Axes>"
      ]
     },
     "metadata": {},
     "output_type": "display_data"
    }
   ],
   "source": [
    "gdp_le.plot(kind=\"scatter\", x=\"GDP_Per_Capita\", y=\"Life_Expectancy\");"
   ]
  },
  {
   "cell_type": "code",
   "execution_count": 8,
   "id": "39454a68-6035-4d99-a8d1-8002183a3081",
   "metadata": {},
   "outputs": [],
   "source": [
    "import statsmodels.formula.api as smf"
   ]
  },
  {
   "cell_type": "code",
   "execution_count": 18,
   "id": "2d03ff02-8b68-4ef0-8666-68f1e3586ade",
   "metadata": {},
   "outputs": [],
   "source": [
    "lr_gdp_le = smf.ols(\"Life_Expectancy ~ Year\", data=gdp_le).fit()"
   ]
  },
  {
   "cell_type": "code",
   "execution_count": 20,
   "id": "aed8f94f-0c51-44a3-b6cd-ded9cccf12d3",
   "metadata": {},
   "outputs": [
    {
     "data": {
      "text/plain": [
       "Intercept   -468.138140\n",
       "Year           0.267722\n",
       "dtype: float64"
      ]
     },
     "execution_count": 20,
     "metadata": {},
     "output_type": "execute_result"
    }
   ],
   "source": [
    "lr_gdp_le.params"
   ]
  },
  {
   "cell_type": "code",
   "execution_count": 24,
   "id": "8af757e5-370f-49e9-bd7b-925021447b7a",
   "metadata": {},
   "outputs": [
    {
     "data": {
      "text/plain": [
       "0       2021\n",
       "1       2020\n",
       "2       2019\n",
       "3       2018\n",
       "4       2017\n",
       "        ... \n",
       "5499    1994\n",
       "5500    1993\n",
       "5501    1992\n",
       "5502    1991\n",
       "5503    1990\n",
       "Name: Year, Length: 5504, dtype: int64"
      ]
     },
     "execution_count": 24,
     "metadata": {},
     "output_type": "execute_result"
    }
   ],
   "source": [
    "gdp_le_after_1990 = gdp_le[gdp_le['Year'] >= 1990]\n",
    "gdp_le_after_1990['Year']"
   ]
  },
  {
   "cell_type": "code",
   "execution_count": 26,
   "id": "dab9ba3a-e5de-4687-9e44-033bb3f09ac4",
   "metadata": {},
   "outputs": [],
   "source": [
    "lr_gdp_le_1990 = smf.ols(\"Life_Expectancy ~ Year\", data=gdp_le_after_1990).fit()"
   ]
  },
  {
   "cell_type": "code",
   "execution_count": 28,
   "id": "4d1065ba-e78e-46ac-a546-9ea3d29ecf3a",
   "metadata": {},
   "outputs": [
    {
     "data": {
      "text/plain": [
       "Intercept   -468.138140\n",
       "Year           0.267722\n",
       "dtype: float64"
      ]
     },
     "execution_count": 28,
     "metadata": {},
     "output_type": "execute_result"
    }
   ],
   "source": [
    "lr_gdp_le_1990.params"
   ]
  },
  {
   "cell_type": "code",
   "execution_count": null,
   "id": "6ee3585d-4493-42e4-904f-72f57a21d3bf",
   "metadata": {},
   "outputs": [],
   "source": []
  }
 ],
 "metadata": {
  "kernelspec": {
   "display_name": "Python 3 (ipykernel)",
   "language": "python",
   "name": "python3"
  },
  "language_info": {
   "codemirror_mode": {
    "name": "ipython",
    "version": 3
   },
   "file_extension": ".py",
   "mimetype": "text/x-python",
   "name": "python",
   "nbconvert_exporter": "python",
   "pygments_lexer": "ipython3",
   "version": "3.12.4"
  }
 },
 "nbformat": 4,
 "nbformat_minor": 5
}
