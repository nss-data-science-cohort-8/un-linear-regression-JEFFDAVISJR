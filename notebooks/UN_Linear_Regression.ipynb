{
 "cells": [
  {
   "cell_type": "markdown",
   "id": "97af10db-f694-45bb-9d26-10f8fd258b34",
   "metadata": {},
   "source": [
    "# Linear Regression Practice\n",
    "\n",
    "For this exercise, you've been provided with a csv file, gdp_le.csv, which contains the gdp per capita and life expectancy values that you were working with on the UN data exercise.\n",
    "\n",
    "1. Start by fitting a linear regression model with target being life expectancy and predictor variable year.  \n",
    "    a. What coefficients do you get? Interpret the meaning of these coefficents.  \n",
    "    b. Using just the year makes the intercept term difficult to interpret. Create a new model, but this time use years since 1990 as your predictor variable. Hint: You can the [patsy identity function](https://patsy.readthedocs.io/en/latest/builtins-reference.html#patsy.builtins.I) to modify your predictors in your model formula. Inspect the new coefficients and interpret the meaning of them. Are they statistically significant?  \n",
    "    c. Compare the actual mean life expectancy per year to the model's estimate. How well does it do?  \n",
    "    d. Plot the actual values against your model's estimates for the mean life expectancy.  \n",
    "    e. Inspect the R-squared value for the model. does it make sense, given the plot?  \n",
    "\n",
    "2. Filter the full dataset down to just the year 2021. Fit a linear regression model with target being life expectancy and predictor variable gdp per capita.  \n",
    "    a. What coefficients do you get? Interpret the meaning of those coefficients.  \n",
    "    b. Refit your model, but this time use thousands of dollars of gdp per capita as your predictor. How does this change your coefficients?  \n",
    "    c. Are the coefficients statistically significant?  \n",
    "    d. What does your model estimate for the mean life expectancy for a country whose gdp per capita is $50,000? What about one whose gdp per capita is $100,000?\n",
    "    e. Plot the actual values compared to your model's estimates for mean life expectancy. How would you assess the model's fit?\n",
    "\n",
    "3. Now, fit a model for life expectancy based on the log of gdp per capita.  \n",
    "    a. Inspect the coefficients for this model. Are they statistically significant?\n",
    "    b. Interpret these coefficients. What does the model estimate for the average life expectancy for countries with a gdp per capita of $50,000? What about for those with a gdp per capita of $100,000?\n",
    "    c. Plot the actual values compared to your models' estimates for the mean life expectancy. How does this compare to the non-logged model?\n",
    "\n",
    "4. Finally, return to the full dataset. \n",
    "    a. First, fit a linear regression model for life expectancy based on the log of gdp per capita.\n",
    "    b. Then, add the year variable to your model. How can you interpret the coefficient associated with year? What limitations or weaknesses might this model have?\n"
   ]
  },
  {
   "cell_type": "code",
   "execution_count": 1,
   "id": "bf02720a-958b-42c2-bd19-b23a3348fc96",
   "metadata": {},
   "outputs": [],
   "source": [
    "import pandas as pd\n",
    "import numpy as np\n",
    "import matplotlib.pyplot as plt"
   ]
  },
  {
   "cell_type": "code",
   "execution_count": null,
   "id": "bb055275-e54e-482d-914d-de68c85dff99",
   "metadata": {},
   "outputs": [],
   "source": [
    "gdp_le = pd.read_csv('../data/gdp_le.csv')\n",
    "gdp_le."
   ]
  }
 ],
 "metadata": {
  "kernelspec": {
   "display_name": "Python 3 (ipykernel)",
   "language": "python",
   "name": "python3"
  },
  "language_info": {
   "codemirror_mode": {
    "name": "ipython",
    "version": 3
   },
   "file_extension": ".py",
   "mimetype": "text/x-python",
   "name": "python",
   "nbconvert_exporter": "python",
   "pygments_lexer": "ipython3",
   "version": "3.12.4"
  }
 },
 "nbformat": 4,
 "nbformat_minor": 5
}
